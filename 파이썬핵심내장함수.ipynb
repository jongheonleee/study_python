{
  "nbformat": 4,
  "nbformat_minor": 0,
  "metadata": {
    "colab": {
      "provenance": [],
      "collapsed_sections": [],
      "authorship_tag": "ABX9TyNNOQ75JhuBs8a4Sh5+UEOa",
      "include_colab_link": true
    },
    "kernelspec": {
      "name": "python3",
      "display_name": "Python 3"
    },
    "language_info": {
      "name": "python"
    }
  },
  "cells": [
    {
      "cell_type": "markdown",
      "metadata": {
        "id": "view-in-github",
        "colab_type": "text"
      },
      "source": [
        "<a href=\"https://colab.research.google.com/github/jongheonleee/study_python/blob/main/%ED%8C%8C%EC%9D%B4%EC%8D%AC%ED%95%B5%EC%8B%AC%EB%82%B4%EC%9E%A5%ED%95%A8%EC%88%98.ipynb\" target=\"_parent\"><img src=\"https://colab.research.google.com/assets/colab-badge.svg\" alt=\"Open In Colab\"/></a>"
      ]
    },
    {
      "cell_type": "code",
      "execution_count": 1,
      "metadata": {
        "colab": {
          "base_uri": "https://localhost:8080/",
          "height": 53
        },
        "id": "PruXYdJCcgG6",
        "outputId": "0b7dd2e2-d1f5-4c02-ee33-f0f10d75cd4d"
      },
      "outputs": [
        {
          "output_type": "execute_result",
          "data": {
            "text/plain": [
              "'\\n오늘 공부할 파이썬 내장함수\\nA로 시작되는 내장함수\\n- abs()\\n- aiter()\\n- all()\\n- any()\\n- anext()\\n- ascii()\\n'"
            ],
            "application/vnd.google.colaboratory.intrinsic+json": {
              "type": "string"
            }
          },
          "metadata": {},
          "execution_count": 1
        }
      ],
      "source": [
        "'''\n",
        "오늘 공부할 파이썬 내장함수\n",
        "A로 시작되는 내장함수\n",
        "- abs()\n",
        "- *aiter()\n",
        "- all()\n",
        "- any()\n",
        "- *anext()\n",
        "- *ascii()\n",
        "'''"
      ]
    },
    {
      "cell_type": "code",
      "source": [
        "# abs() \n",
        "# 숫자의 절댓값을 돌려줍니다. \n",
        "# 인자는 정수, 실수 또는 __abs__()를 구현하는 객체입니다. \n",
        "# 인자가 복소수면 그 크기가 반환됩니다.\n",
        "\n",
        "print(abs(-3))\n",
        "print(abs(-3.2456))\n",
        "print(abs(7-10))"
      ],
      "metadata": {
        "colab": {
          "base_uri": "https://localhost:8080/"
        },
        "id": "hrR-AqhfdVoi",
        "outputId": "1f3b6ba9-1f27-4adb-ca68-a735c59c1155"
      },
      "execution_count": 4,
      "outputs": [
        {
          "output_type": "stream",
          "name": "stdout",
          "text": [
            "3\n",
            "3.2456\n",
            "3\n"
          ]
        }
      ]
    },
    {
      "cell_type": "code",
      "source": [
        "# all()\n",
        "# iterable 의 모든 요소가 참이면 (또는 iterable 이 비어있으면) True 를 돌려줌\n",
        "\n",
        "def all(iterable) -> bool:\n",
        "  # iterable can be many datatype - list, str, like so on\n",
        "  # but those must be iterable\n",
        "  for e in iterable:\n",
        "    if not e:\n",
        "      return False\n",
        "\n",
        "  return True\n",
        "\n",
        "lst1 = ['t', 'c', 1, 3, \"hi\", 3.24, True]\n",
        "lst2 = [0, True, True, True]\n",
        "lst3 = [1, 1, 1, False]\n",
        "\n",
        "for lst in [lst1, lst2, lst3]:\n",
        "  print(all(lst))"
      ],
      "metadata": {
        "colab": {
          "base_uri": "https://localhost:8080/"
        },
        "id": "mIvxnxcGdoCH",
        "outputId": "f1026b51-4e9f-4502-d0a1-d62ccfb1e875"
      },
      "execution_count": 7,
      "outputs": [
        {
          "output_type": "stream",
          "name": "stdout",
          "text": [
            "True\n",
            "False\n",
            "False\n"
          ]
        }
      ]
    },
    {
      "cell_type": "code",
      "source": [
        "# any()\n",
        "# iterable 의 요소 중 어느 하나라도 참이면 True 를 돌려줌\n",
        "# iterable이 비어 있으면 False 를 돌려줌\n",
        "\n",
        "def any(iterable) -> bool:\n",
        "  for e in iterable:\n",
        "    if e:\n",
        "      return True\n",
        "\n",
        "  return False\n",
        "\n",
        "lst1 = ['t', 'c', 1, 3, \"hi\", 3.24, True]\n",
        "lst2 = [0, True, True, True]\n",
        "lst3 = [1, 1, 1, False]\n",
        "lst4 = []\n",
        "\n",
        "for lst in [lst1, lst2, lst3, lst4]:\n",
        "  print(any(lst))"
      ],
      "metadata": {
        "colab": {
          "base_uri": "https://localhost:8080/"
        },
        "id": "YfV9MTcJfCe4",
        "outputId": "a6643de9-0d64-4866-c83e-e0aa7abfeaef"
      },
      "execution_count": 8,
      "outputs": [
        {
          "output_type": "stream",
          "name": "stdout",
          "text": [
            "True\n",
            "True\n",
            "True\n",
            "False\n"
          ]
        }
      ]
    },
    {
      "cell_type": "code",
      "source": [],
      "metadata": {
        "colab": {
          "base_uri": "https://localhost:8080/",
          "height": 36
        },
        "id": "Semh8m74gQuu",
        "outputId": "718d1e6e-f646-4420-e711-374c69d21318"
      },
      "execution_count": 13,
      "outputs": [
        {
          "output_type": "execute_result",
          "data": {
            "text/plain": [
              "\"'hi'\""
            ],
            "application/vnd.google.colaboratory.intrinsic+json": {
              "type": "string"
            }
          },
          "metadata": {},
          "execution_count": 13
        }
      ]
    },
    {
      "cell_type": "code",
      "source": [],
      "metadata": {
        "id": "70OCvKSPga2H"
      },
      "execution_count": null,
      "outputs": []
    }
  ]
}