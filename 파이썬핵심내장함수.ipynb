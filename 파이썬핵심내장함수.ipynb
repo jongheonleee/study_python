{
  "nbformat": 4,
  "nbformat_minor": 0,
  "metadata": {
    "colab": {
      "provenance": [],
      "collapsed_sections": [],
      "authorship_tag": "ABX9TyN5wwKt6PBc5HuwWAddc59i",
      "include_colab_link": true
    },
    "kernelspec": {
      "name": "python3",
      "display_name": "Python 3"
    },
    "language_info": {
      "name": "python"
    }
  },
  "cells": [
    {
      "cell_type": "markdown",
      "metadata": {
        "id": "view-in-github",
        "colab_type": "text"
      },
      "source": [
        "<a href=\"https://colab.research.google.com/github/jongheonleee/study_python/blob/main/%ED%8C%8C%EC%9D%B4%EC%8D%AC%ED%95%B5%EC%8B%AC%EB%82%B4%EC%9E%A5%ED%95%A8%EC%88%98.ipynb\" target=\"_parent\"><img src=\"https://colab.research.google.com/assets/colab-badge.svg\" alt=\"Open In Colab\"/></a>"
      ]
    },
    {
      "cell_type": "code",
      "execution_count": 21,
      "metadata": {
        "colab": {
          "base_uri": "https://localhost:8080/",
          "height": 36
        },
        "id": "PruXYdJCcgG6",
        "outputId": "e9498224-f426-4238-96df-ff32fdb6d1eb"
      },
      "outputs": [
        {
          "output_type": "execute_result",
          "data": {
            "text/plain": [
              "'\\n오늘 공부할 파이썬 내장함수\\nA로 시작되는 내장함수\\n- abs()\\n- all()\\n- any()\\n'"
            ],
            "application/vnd.google.colaboratory.intrinsic+json": {
              "type": "string"
            }
          },
          "metadata": {},
          "execution_count": 21
        }
      ],
      "source": [
        "'''\n",
        "오늘 공부할 파이썬 내장함수\n",
        "A로 시작되는 내장함수\n",
        "- abs()\n",
        "- all()\n",
        "- any()\n",
        "'''"
      ]
    },
    {
      "cell_type": "code",
      "source": [
        "# abs() \n",
        "# 숫자의 절댓값을 돌려줍니다. \n",
        "# 인자는 정수, 실수 또는 __abs__()를 구현하는 객체입니다. \n",
        "# 인자가 복소수면 그 크기가 반환됩니다.\n",
        "\n",
        "print(abs(-3))\n",
        "print(abs(-3.2456))\n",
        "print(abs(7-10))"
      ],
      "metadata": {
        "colab": {
          "base_uri": "https://localhost:8080/"
        },
        "id": "hrR-AqhfdVoi",
        "outputId": "3cc83aa9-baaa-42c9-e258-d7d1f64b5aa0"
      },
      "execution_count": 22,
      "outputs": [
        {
          "output_type": "stream",
          "name": "stdout",
          "text": [
            "3\n",
            "3.2456\n",
            "3\n"
          ]
        }
      ]
    },
    {
      "cell_type": "code",
      "source": [
        "# all()\n",
        "# iterable 의 모든 요소가 참이면 (또는 iterable 이 비어있으면) True 를 돌려줌\n",
        "\n",
        "def all(iterable) -> bool:\n",
        "  # iterable can be many datatype - list, str, like so on\n",
        "  # but those must be iterable\n",
        "  for e in iterable:\n",
        "    if not e:\n",
        "      return False\n",
        "\n",
        "  return True\n",
        "\n",
        "lst1 = ['t', 'c', 1, 3, \"hi\", 3.24, True]\n",
        "lst2 = [0, True, True, True]\n",
        "lst3 = [1, 1, 1, False]\n",
        "\n",
        "for lst in [lst1, lst2, lst3]:\n",
        "  print(all(lst))"
      ],
      "metadata": {
        "colab": {
          "base_uri": "https://localhost:8080/"
        },
        "id": "mIvxnxcGdoCH",
        "outputId": "bf4d128d-162b-4b27-9478-38d8ba2be056"
      },
      "execution_count": 23,
      "outputs": [
        {
          "output_type": "stream",
          "name": "stdout",
          "text": [
            "True\n",
            "False\n",
            "False\n"
          ]
        }
      ]
    },
    {
      "cell_type": "code",
      "source": [
        "# any()\n",
        "# iterable 의 요소 중 어느 하나라도 참이면 True 를 돌려줌\n",
        "# iterable이 비어 있으면 False 를 돌려줌\n",
        "\n",
        "def any(iterable) -> bool:\n",
        "  for e in iterable:\n",
        "    if e:\n",
        "      return True\n",
        "\n",
        "  return False\n",
        "\n",
        "lst1 = ['t', 'c', 1, 3, \"hi\", 3.24, True]\n",
        "lst2 = [0, True, True, True]\n",
        "lst3 = [1, 1, 1, False]\n",
        "lst4 = []\n",
        "\n",
        "for lst in [lst1, lst2, lst3, lst4]:\n",
        "  print(any(lst))"
      ],
      "metadata": {
        "colab": {
          "base_uri": "https://localhost:8080/"
        },
        "id": "YfV9MTcJfCe4",
        "outputId": "dcbedf9f-fd0a-4641-9a77-2c54400e89aa"
      },
      "execution_count": 24,
      "outputs": [
        {
          "output_type": "stream",
          "name": "stdout",
          "text": [
            "True\n",
            "True\n",
            "True\n",
            "False\n"
          ]
        }
      ]
    },
    {
      "cell_type": "code",
      "source": [],
      "metadata": {
        "colab": {
          "base_uri": "https://localhost:8080/"
        },
        "id": "Semh8m74gQuu",
        "outputId": "523e81f0-4a33-4546-b5c1-49fd0fd353c9"
      },
      "execution_count": 25,
      "outputs": [
        {
          "output_type": "execute_result",
          "data": {
            "text/plain": [
              "<coroutine object areversed at 0x7fb328280b90>"
            ]
          },
          "metadata": {},
          "execution_count": 25
        }
      ]
    },
    {
      "cell_type": "code",
      "source": [],
      "metadata": {
        "id": "70OCvKSPga2H"
      },
      "execution_count": null,
      "outputs": []
    }
  ]
}